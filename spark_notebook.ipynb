{
 "cells": [
  {
   "cell_type": "markdown",
   "metadata": {},
   "source": [
    "# Middleware Project: Big Data"
   ]
  },
  {
   "cell_type": "markdown",
   "metadata": {},
   "source": [
    "## Initialization"
   ]
  },
  {
   "cell_type": "code",
   "execution_count": 1,
   "metadata": {},
   "outputs": [],
   "source": [
    "DATASET_DIR = './dataset/'"
   ]
  },
  {
   "cell_type": "code",
   "execution_count": 2,
   "metadata": {},
   "outputs": [],
   "source": [
    "# imports\n",
    "import operator\n",
    "import pyspark\n",
    "from pyspark.sql import SparkSession\n",
    "from pyspark.sql.types import *"
   ]
  },
  {
   "cell_type": "code",
   "execution_count": 3,
   "metadata": {},
   "outputs": [],
   "source": [
    "# initialize spark\n",
    "sc = pyspark.SparkContext(\"local[4]\", \"MiddlewareProject\")\n",
    "spark = SparkSession.builder.appName(\"MiddlewareProject\").getOrCreate()"
   ]
  },
  {
   "cell_type": "markdown",
   "metadata": {},
   "source": [
    "## test vari"
   ]
  },
  {
   "cell_type": "code",
   "execution_count": 4,
   "metadata": {},
   "outputs": [],
   "source": [
    "# come aprire un file\n",
    "rdd = spark.read.csv(DATASET_DIR + 'short.csv', header=True)"
   ]
  },
  {
   "cell_type": "code",
   "execution_count": 5,
   "metadata": {},
   "outputs": [
    {
     "data": {
      "text/plain": [
       "Row(Year='1994', Month='1', DayofMonth='7', DayOfWeek='5', DepTime='858', CRSDepTime='900', ArrTime='954', CRSArrTime='1003', UniqueCarrier='US', FlightNum='227', TailNum='NA', ActualElapsedTime='56', CRSElapsedTime='63', AirTime='NA', ArrDelay='-9', DepDelay='-2', Origin='CLT', Dest='ORF', Distance='290', TaxiIn='NA', TaxiOut='NA', Cancelled='0', CancellationCode='NA', Diverted='0', CarrierDelay='NA', WeatherDelay='NA', NASDelay='NA', SecurityDelay='NA', LateAircraftDelay='NA')"
      ]
     },
     "execution_count": 5,
     "metadata": {},
     "output_type": "execute_result"
    }
   ],
   "source": [
    "# roba con dataframe\n",
    "rdd.first()"
   ]
  },
  {
   "cell_type": "code",
   "execution_count": 6,
   "metadata": {},
   "outputs": [
    {
     "data": {
      "text/plain": [
       "100000"
      ]
     },
     "execution_count": 6,
     "metadata": {},
     "output_type": "execute_result"
    }
   ],
   "source": [
    "rdd.count()"
   ]
  },
  {
   "cell_type": "code",
   "execution_count": 7,
   "metadata": {},
   "outputs": [],
   "source": [
    "# replace 'NA' with null values\n",
    "rdd = rdd.replace('NA', None)"
   ]
  },
  {
   "cell_type": "code",
   "execution_count": 8,
   "metadata": {
    "scrolled": false
   },
   "outputs": [
    {
     "name": "stdout",
     "output_type": "stream",
     "text": [
      "DepTime           -> 5754\n",
      "ArrTime           -> 6135\n",
      "TailNum           -> 100000\n",
      "ActualElapsedTime -> 6135\n",
      "AirTime           -> 100000\n",
      "ArrDelay          -> 6135\n",
      "DepDelay          -> 5754\n",
      "TaxiIn            -> 100000\n",
      "TaxiOut           -> 100000\n",
      "CancellationCode  -> 100000\n",
      "CarrierDelay      -> 100000\n",
      "WeatherDelay      -> 100000\n",
      "NASDelay          -> 100000\n",
      "SecurityDelay     -> 100000\n",
      "LateAircraftDelay -> 100000\n"
     ]
    }
   ],
   "source": [
    "# find columns with null values\n",
    "for col in rdd.columns:\n",
    "    num = rdd.filter(rdd[col].isNull()).count()\n",
    "    if num > 0:\n",
    "        print(\"{:17} -> {}\".format(col, num))"
   ]
  },
  {
   "cell_type": "code",
   "execution_count": 9,
   "metadata": {},
   "outputs": [],
   "source": [
    "# cast columns to correct type\n",
    "intcolumns = ['Year', 'Month', 'DayofMonth', 'DayofWeek', 'DepTime', 'CRSDEPTime', 'ArrTime', 'CRSArrTime',\n",
    "              'ActualElapsedTime', 'CRSElapsedTime', 'AirTime', 'ArrDelay', 'DepDelay', 'Distance', 'CarrierDelay',\n",
    "              'WeatherDelay', 'NASDelay', 'SecurityDelay', 'LateAircraftDelay', 'Cancelled', 'Diverted']\n",
    "\n",
    "for c in intcolumns:\n",
    "    rdd = rdd.withColumn(c, rdd[c].cast('int'))"
   ]
  },
  {
   "cell_type": "code",
   "execution_count": 10,
   "metadata": {},
   "outputs": [
    {
     "data": {
      "text/plain": [
       "Row(Year=1994, Month=1, DayofMonth=7, DayofWeek=5, DepTime=858, CRSDEPTime=900, ArrTime=954, CRSArrTime=1003, UniqueCarrier='US', FlightNum='227', TailNum=None, ActualElapsedTime=56, CRSElapsedTime=63, AirTime=None, ArrDelay=-9, DepDelay=-2, Origin='CLT', Dest='ORF', Distance=290, TaxiIn=None, TaxiOut=None, Cancelled=0, CancellationCode=None, Diverted=0, CarrierDelay=None, WeatherDelay=None, NASDelay=None, SecurityDelay=None, LateAircraftDelay=None)"
      ]
     },
     "execution_count": 10,
     "metadata": {},
     "output_type": "execute_result"
    }
   ],
   "source": [
    "rdd.first()"
   ]
  },
  {
   "cell_type": "code",
   "execution_count": null,
   "metadata": {},
   "outputs": [],
   "source": []
  },
  {
   "cell_type": "code",
   "execution_count": 11,
   "metadata": {},
   "outputs": [],
   "source": [
    "# to pandas dataframe\n",
    "df = rdd.toPandas()"
   ]
  },
  {
   "cell_type": "code",
   "execution_count": 21,
   "metadata": {},
   "outputs": [
    {
     "data": {
      "text/html": [
       "<div>\n",
       "<style scoped>\n",
       "    .dataframe tbody tr th:only-of-type {\n",
       "        vertical-align: middle;\n",
       "    }\n",
       "\n",
       "    .dataframe tbody tr th {\n",
       "        vertical-align: top;\n",
       "    }\n",
       "\n",
       "    .dataframe thead th {\n",
       "        text-align: right;\n",
       "    }\n",
       "</style>\n",
       "<table border=\"1\" class=\"dataframe\">\n",
       "  <thead>\n",
       "    <tr style=\"text-align: right;\">\n",
       "      <th></th>\n",
       "      <th>Year</th>\n",
       "      <th>Month</th>\n",
       "      <th>DayofMonth</th>\n",
       "      <th>DayofWeek</th>\n",
       "      <th>DepTime</th>\n",
       "      <th>CRSDEPTime</th>\n",
       "      <th>ArrTime</th>\n",
       "      <th>CRSArrTime</th>\n",
       "      <th>UniqueCarrier</th>\n",
       "      <th>FlightNum</th>\n",
       "      <th>...</th>\n",
       "      <th>TaxiIn</th>\n",
       "      <th>TaxiOut</th>\n",
       "      <th>Cancelled</th>\n",
       "      <th>CancellationCode</th>\n",
       "      <th>Diverted</th>\n",
       "      <th>CarrierDelay</th>\n",
       "      <th>WeatherDelay</th>\n",
       "      <th>NASDelay</th>\n",
       "      <th>SecurityDelay</th>\n",
       "      <th>LateAircraftDelay</th>\n",
       "    </tr>\n",
       "  </thead>\n",
       "  <tbody>\n",
       "    <tr>\n",
       "      <th>0</th>\n",
       "      <td>1994</td>\n",
       "      <td>1</td>\n",
       "      <td>7</td>\n",
       "      <td>5</td>\n",
       "      <td>858.0</td>\n",
       "      <td>900</td>\n",
       "      <td>954.0</td>\n",
       "      <td>1003</td>\n",
       "      <td>US</td>\n",
       "      <td>227</td>\n",
       "      <td>...</td>\n",
       "      <td>None</td>\n",
       "      <td>None</td>\n",
       "      <td>0</td>\n",
       "      <td>None</td>\n",
       "      <td>0</td>\n",
       "      <td>None</td>\n",
       "      <td>None</td>\n",
       "      <td>None</td>\n",
       "      <td>None</td>\n",
       "      <td>None</td>\n",
       "    </tr>\n",
       "    <tr>\n",
       "      <th>1</th>\n",
       "      <td>1994</td>\n",
       "      <td>1</td>\n",
       "      <td>8</td>\n",
       "      <td>6</td>\n",
       "      <td>859.0</td>\n",
       "      <td>900</td>\n",
       "      <td>952.0</td>\n",
       "      <td>1003</td>\n",
       "      <td>US</td>\n",
       "      <td>227</td>\n",
       "      <td>...</td>\n",
       "      <td>None</td>\n",
       "      <td>None</td>\n",
       "      <td>0</td>\n",
       "      <td>None</td>\n",
       "      <td>0</td>\n",
       "      <td>None</td>\n",
       "      <td>None</td>\n",
       "      <td>None</td>\n",
       "      <td>None</td>\n",
       "      <td>None</td>\n",
       "    </tr>\n",
       "    <tr>\n",
       "      <th>2</th>\n",
       "      <td>1994</td>\n",
       "      <td>1</td>\n",
       "      <td>10</td>\n",
       "      <td>1</td>\n",
       "      <td>935.0</td>\n",
       "      <td>900</td>\n",
       "      <td>1023.0</td>\n",
       "      <td>1003</td>\n",
       "      <td>US</td>\n",
       "      <td>227</td>\n",
       "      <td>...</td>\n",
       "      <td>None</td>\n",
       "      <td>None</td>\n",
       "      <td>0</td>\n",
       "      <td>None</td>\n",
       "      <td>0</td>\n",
       "      <td>None</td>\n",
       "      <td>None</td>\n",
       "      <td>None</td>\n",
       "      <td>None</td>\n",
       "      <td>None</td>\n",
       "    </tr>\n",
       "    <tr>\n",
       "      <th>3</th>\n",
       "      <td>1994</td>\n",
       "      <td>1</td>\n",
       "      <td>11</td>\n",
       "      <td>2</td>\n",
       "      <td>903.0</td>\n",
       "      <td>900</td>\n",
       "      <td>1131.0</td>\n",
       "      <td>1003</td>\n",
       "      <td>US</td>\n",
       "      <td>227</td>\n",
       "      <td>...</td>\n",
       "      <td>None</td>\n",
       "      <td>None</td>\n",
       "      <td>0</td>\n",
       "      <td>None</td>\n",
       "      <td>0</td>\n",
       "      <td>None</td>\n",
       "      <td>None</td>\n",
       "      <td>None</td>\n",
       "      <td>None</td>\n",
       "      <td>None</td>\n",
       "    </tr>\n",
       "    <tr>\n",
       "      <th>4</th>\n",
       "      <td>1994</td>\n",
       "      <td>1</td>\n",
       "      <td>12</td>\n",
       "      <td>3</td>\n",
       "      <td>933.0</td>\n",
       "      <td>900</td>\n",
       "      <td>1024.0</td>\n",
       "      <td>1003</td>\n",
       "      <td>US</td>\n",
       "      <td>227</td>\n",
       "      <td>...</td>\n",
       "      <td>None</td>\n",
       "      <td>None</td>\n",
       "      <td>0</td>\n",
       "      <td>None</td>\n",
       "      <td>0</td>\n",
       "      <td>None</td>\n",
       "      <td>None</td>\n",
       "      <td>None</td>\n",
       "      <td>None</td>\n",
       "      <td>None</td>\n",
       "    </tr>\n",
       "  </tbody>\n",
       "</table>\n",
       "<p>5 rows × 29 columns</p>\n",
       "</div>"
      ],
      "text/plain": [
       "   Year  Month  DayofMonth  DayofWeek  DepTime  CRSDEPTime  ArrTime  \\\n",
       "0  1994      1           7          5    858.0         900    954.0   \n",
       "1  1994      1           8          6    859.0         900    952.0   \n",
       "2  1994      1          10          1    935.0         900   1023.0   \n",
       "3  1994      1          11          2    903.0         900   1131.0   \n",
       "4  1994      1          12          3    933.0         900   1024.0   \n",
       "\n",
       "   CRSArrTime UniqueCarrier FlightNum        ...        TaxiIn  TaxiOut  \\\n",
       "0        1003            US       227        ...          None     None   \n",
       "1        1003            US       227        ...          None     None   \n",
       "2        1003            US       227        ...          None     None   \n",
       "3        1003            US       227        ...          None     None   \n",
       "4        1003            US       227        ...          None     None   \n",
       "\n",
       "   Cancelled CancellationCode  Diverted  CarrierDelay WeatherDelay NASDelay  \\\n",
       "0          0             None         0          None         None     None   \n",
       "1          0             None         0          None         None     None   \n",
       "2          0             None         0          None         None     None   \n",
       "3          0             None         0          None         None     None   \n",
       "4          0             None         0          None         None     None   \n",
       "\n",
       "   SecurityDelay LateAircraftDelay  \n",
       "0           None              None  \n",
       "1           None              None  \n",
       "2           None              None  \n",
       "3           None              None  \n",
       "4           None              None  \n",
       "\n",
       "[5 rows x 29 columns]"
      ]
     },
     "execution_count": 21,
     "metadata": {},
     "output_type": "execute_result"
    }
   ],
   "source": [
    "df.head(5)"
   ]
  },
  {
   "cell_type": "code",
   "execution_count": 12,
   "metadata": {},
   "outputs": [
    {
     "data": {
      "text/html": [
       "<div>\n",
       "<style scoped>\n",
       "    .dataframe tbody tr th:only-of-type {\n",
       "        vertical-align: middle;\n",
       "    }\n",
       "\n",
       "    .dataframe tbody tr th {\n",
       "        vertical-align: top;\n",
       "    }\n",
       "\n",
       "    .dataframe thead th {\n",
       "        text-align: right;\n",
       "    }\n",
       "</style>\n",
       "<table border=\"1\" class=\"dataframe\">\n",
       "  <thead>\n",
       "    <tr style=\"text-align: right;\">\n",
       "      <th></th>\n",
       "      <th>Year</th>\n",
       "      <th>Month</th>\n",
       "      <th>DayofMonth</th>\n",
       "      <th>DayofWeek</th>\n",
       "      <th>DepTime</th>\n",
       "      <th>CRSDEPTime</th>\n",
       "      <th>ArrTime</th>\n",
       "      <th>CRSArrTime</th>\n",
       "      <th>ActualElapsedTime</th>\n",
       "      <th>CRSElapsedTime</th>\n",
       "      <th>ArrDelay</th>\n",
       "      <th>DepDelay</th>\n",
       "      <th>Distance</th>\n",
       "      <th>Cancelled</th>\n",
       "      <th>Diverted</th>\n",
       "    </tr>\n",
       "  </thead>\n",
       "  <tbody>\n",
       "    <tr>\n",
       "      <th>count</th>\n",
       "      <td>100000.0</td>\n",
       "      <td>100000.0</td>\n",
       "      <td>100000.000000</td>\n",
       "      <td>100000.000000</td>\n",
       "      <td>94246.000000</td>\n",
       "      <td>100000.000000</td>\n",
       "      <td>93865.000000</td>\n",
       "      <td>100000.000000</td>\n",
       "      <td>93865.000000</td>\n",
       "      <td>100000.00000</td>\n",
       "      <td>93865.000000</td>\n",
       "      <td>94246.000000</td>\n",
       "      <td>100000.000000</td>\n",
       "      <td>100000.000000</td>\n",
       "      <td>100000.000000</td>\n",
       "    </tr>\n",
       "    <tr>\n",
       "      <th>mean</th>\n",
       "      <td>1994.0</td>\n",
       "      <td>1.0</td>\n",
       "      <td>16.043110</td>\n",
       "      <td>3.961010</td>\n",
       "      <td>1375.857267</td>\n",
       "      <td>1358.403500</td>\n",
       "      <td>1499.445235</td>\n",
       "      <td>1486.779440</td>\n",
       "      <td>85.846876</td>\n",
       "      <td>87.33814</td>\n",
       "      <td>9.671305</td>\n",
       "      <td>11.378679</td>\n",
       "      <td>452.015090</td>\n",
       "      <td>0.057540</td>\n",
       "      <td>0.003810</td>\n",
       "    </tr>\n",
       "    <tr>\n",
       "      <th>std</th>\n",
       "      <td>0.0</td>\n",
       "      <td>0.0</td>\n",
       "      <td>8.889891</td>\n",
       "      <td>2.066788</td>\n",
       "      <td>451.669424</td>\n",
       "      <td>444.294523</td>\n",
       "      <td>455.402647</td>\n",
       "      <td>445.426795</td>\n",
       "      <td>47.624833</td>\n",
       "      <td>46.30459</td>\n",
       "      <td>26.917011</td>\n",
       "      <td>23.883334</td>\n",
       "      <td>354.019212</td>\n",
       "      <td>0.232873</td>\n",
       "      <td>0.061608</td>\n",
       "    </tr>\n",
       "    <tr>\n",
       "      <th>min</th>\n",
       "      <td>1994.0</td>\n",
       "      <td>1.0</td>\n",
       "      <td>1.000000</td>\n",
       "      <td>1.000000</td>\n",
       "      <td>1.000000</td>\n",
       "      <td>530.000000</td>\n",
       "      <td>1.000000</td>\n",
       "      <td>5.000000</td>\n",
       "      <td>15.000000</td>\n",
       "      <td>19.00000</td>\n",
       "      <td>-41.000000</td>\n",
       "      <td>-13.000000</td>\n",
       "      <td>32.000000</td>\n",
       "      <td>0.000000</td>\n",
       "      <td>0.000000</td>\n",
       "    </tr>\n",
       "    <tr>\n",
       "      <th>25%</th>\n",
       "      <td>1994.0</td>\n",
       "      <td>1.0</td>\n",
       "      <td>8.000000</td>\n",
       "      <td>2.000000</td>\n",
       "      <td>1000.000000</td>\n",
       "      <td>950.000000</td>\n",
       "      <td>1127.000000</td>\n",
       "      <td>1120.000000</td>\n",
       "      <td>56.000000</td>\n",
       "      <td>60.00000</td>\n",
       "      <td>-5.000000</td>\n",
       "      <td>0.000000</td>\n",
       "      <td>248.000000</td>\n",
       "      <td>0.000000</td>\n",
       "      <td>0.000000</td>\n",
       "    </tr>\n",
       "    <tr>\n",
       "      <th>50%</th>\n",
       "      <td>1994.0</td>\n",
       "      <td>1.0</td>\n",
       "      <td>16.000000</td>\n",
       "      <td>4.000000</td>\n",
       "      <td>1356.000000</td>\n",
       "      <td>1345.000000</td>\n",
       "      <td>1518.000000</td>\n",
       "      <td>1513.000000</td>\n",
       "      <td>71.000000</td>\n",
       "      <td>73.00000</td>\n",
       "      <td>2.000000</td>\n",
       "      <td>2.000000</td>\n",
       "      <td>335.000000</td>\n",
       "      <td>0.000000</td>\n",
       "      <td>0.000000</td>\n",
       "    </tr>\n",
       "    <tr>\n",
       "      <th>75%</th>\n",
       "      <td>1994.0</td>\n",
       "      <td>1.0</td>\n",
       "      <td>24.000000</td>\n",
       "      <td>6.000000</td>\n",
       "      <td>1744.000000</td>\n",
       "      <td>1730.000000</td>\n",
       "      <td>1902.000000</td>\n",
       "      <td>1853.000000</td>\n",
       "      <td>99.000000</td>\n",
       "      <td>100.00000</td>\n",
       "      <td>14.000000</td>\n",
       "      <td>13.000000</td>\n",
       "      <td>526.000000</td>\n",
       "      <td>0.000000</td>\n",
       "      <td>0.000000</td>\n",
       "    </tr>\n",
       "    <tr>\n",
       "      <th>max</th>\n",
       "      <td>1994.0</td>\n",
       "      <td>1.0</td>\n",
       "      <td>31.000000</td>\n",
       "      <td>7.000000</td>\n",
       "      <td>2400.000000</td>\n",
       "      <td>2359.000000</td>\n",
       "      <td>2400.000000</td>\n",
       "      <td>2400.000000</td>\n",
       "      <td>560.000000</td>\n",
       "      <td>370.00000</td>\n",
       "      <td>423.000000</td>\n",
       "      <td>434.000000</td>\n",
       "      <td>2521.000000</td>\n",
       "      <td>1.000000</td>\n",
       "      <td>1.000000</td>\n",
       "    </tr>\n",
       "  </tbody>\n",
       "</table>\n",
       "</div>"
      ],
      "text/plain": [
       "           Year     Month     DayofMonth      DayofWeek       DepTime  \\\n",
       "count  100000.0  100000.0  100000.000000  100000.000000  94246.000000   \n",
       "mean     1994.0       1.0      16.043110       3.961010   1375.857267   \n",
       "std         0.0       0.0       8.889891       2.066788    451.669424   \n",
       "min      1994.0       1.0       1.000000       1.000000      1.000000   \n",
       "25%      1994.0       1.0       8.000000       2.000000   1000.000000   \n",
       "50%      1994.0       1.0      16.000000       4.000000   1356.000000   \n",
       "75%      1994.0       1.0      24.000000       6.000000   1744.000000   \n",
       "max      1994.0       1.0      31.000000       7.000000   2400.000000   \n",
       "\n",
       "          CRSDEPTime       ArrTime     CRSArrTime  ActualElapsedTime  \\\n",
       "count  100000.000000  93865.000000  100000.000000       93865.000000   \n",
       "mean     1358.403500   1499.445235    1486.779440          85.846876   \n",
       "std       444.294523    455.402647     445.426795          47.624833   \n",
       "min       530.000000      1.000000       5.000000          15.000000   \n",
       "25%       950.000000   1127.000000    1120.000000          56.000000   \n",
       "50%      1345.000000   1518.000000    1513.000000          71.000000   \n",
       "75%      1730.000000   1902.000000    1853.000000          99.000000   \n",
       "max      2359.000000   2400.000000    2400.000000         560.000000   \n",
       "\n",
       "       CRSElapsedTime      ArrDelay      DepDelay       Distance  \\\n",
       "count    100000.00000  93865.000000  94246.000000  100000.000000   \n",
       "mean         87.33814      9.671305     11.378679     452.015090   \n",
       "std          46.30459     26.917011     23.883334     354.019212   \n",
       "min          19.00000    -41.000000    -13.000000      32.000000   \n",
       "25%          60.00000     -5.000000      0.000000     248.000000   \n",
       "50%          73.00000      2.000000      2.000000     335.000000   \n",
       "75%         100.00000     14.000000     13.000000     526.000000   \n",
       "max         370.00000    423.000000    434.000000    2521.000000   \n",
       "\n",
       "           Cancelled       Diverted  \n",
       "count  100000.000000  100000.000000  \n",
       "mean        0.057540       0.003810  \n",
       "std         0.232873       0.061608  \n",
       "min         0.000000       0.000000  \n",
       "25%         0.000000       0.000000  \n",
       "50%         0.000000       0.000000  \n",
       "75%         0.000000       0.000000  \n",
       "max         1.000000       1.000000  "
      ]
     },
     "execution_count": 12,
     "metadata": {},
     "output_type": "execute_result"
    }
   ],
   "source": [
    "df.describe()"
   ]
  },
  {
   "cell_type": "code",
   "execution_count": null,
   "metadata": {},
   "outputs": [],
   "source": []
  },
  {
   "cell_type": "markdown",
   "metadata": {},
   "source": [
    "## Actual assignment"
   ]
  },
  {
   "cell_type": "code",
   "execution_count": 14,
   "metadata": {},
   "outputs": [],
   "source": [
    "# the percentage of canceled flights per day"
   ]
  },
  {
   "cell_type": "code",
   "execution_count": 15,
   "metadata": {},
   "outputs": [],
   "source": [
    "# weekly percentages of delays that are due to weather"
   ]
  },
  {
   "cell_type": "code",
   "execution_count": 16,
   "metadata": {},
   "outputs": [],
   "source": [
    "# the percentage of flights belonging to a given \"distance group\"\n",
    "# that were able to halve their departure delays by the time they \n",
    "# arrived at their destinations. \n",
    "\n",
    "# Distance groups assort flights by their total distance in miles.\n",
    "# Flights with distances that are less than 200 miles belong in group 1,\n",
    "# flights with distances that are between 200 and 399 miles belong \n",
    "# in group 2, flights with distances that are between 400 and 599 miles\n",
    "# belong in group 3, and so on. The last group contains flights whose\n",
    "# distances are between 2400 and 2599 miles."
   ]
  },
  {
   "cell_type": "code",
   "execution_count": 17,
   "metadata": {},
   "outputs": [],
   "source": [
    "# a weekly \"penalty\" score for each airport that depends on both \n",
    "# the its incoming and outgoing flights. \n",
    "\n",
    "# The score adds 0.5 for each incoming flight that is more than 15 minutes\n",
    "# late, and 1 for each outgoing flight that is more than 15 minutes late"
   ]
  },
  {
   "cell_type": "code",
   "execution_count": 18,
   "metadata": {},
   "outputs": [],
   "source": [
    "# an additional data analysis defined by your group"
   ]
  },
  {
   "cell_type": "code",
   "execution_count": null,
   "metadata": {},
   "outputs": [],
   "source": []
  },
  {
   "cell_type": "code",
   "execution_count": 19,
   "metadata": {},
   "outputs": [],
   "source": [
    "# prima fare con un solo file come debug, poi mettere tutti"
   ]
  },
  {
   "cell_type": "code",
   "execution_count": 20,
   "metadata": {},
   "outputs": [],
   "source": [
    "# come caricare più file allo stesso tempo:"
   ]
  }
 ],
 "metadata": {
  "kernelspec": {
   "display_name": "Python 3",
   "language": "python",
   "name": "python3"
  },
  "language_info": {
   "codemirror_mode": {
    "name": "ipython",
    "version": 3
   },
   "file_extension": ".py",
   "mimetype": "text/x-python",
   "name": "python",
   "nbconvert_exporter": "python",
   "pygments_lexer": "ipython3",
   "version": "3.6.6"
  }
 },
 "nbformat": 4,
 "nbformat_minor": 2
}
