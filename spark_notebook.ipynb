{
 "cells": [
  {
   "cell_type": "markdown",
   "metadata": {},
   "source": [
    "# Middleware Project: Big Data"
   ]
  },
  {
   "cell_type": "markdown",
   "metadata": {},
   "source": [
    "## Initialization"
   ]
  },
  {
   "cell_type": "code",
   "execution_count": 1,
   "metadata": {},
   "outputs": [],
   "source": [
    "DATASET_DIR = './dataset/'"
   ]
  },
  {
   "cell_type": "code",
   "execution_count": 2,
   "metadata": {},
   "outputs": [],
   "source": [
    "# imports\n",
    "import operator\n",
    "import pyspark\n",
    "from pyspark.sql import SparkSession\n",
    "from pyspark.sql.types import *\n",
    "from time import time"
   ]
  },
  {
   "cell_type": "code",
   "execution_count": 3,
   "metadata": {},
   "outputs": [],
   "source": [
    "# initialize spark\n",
    "sc = pyspark.SparkContext(\"local[4]\", \"MiddlewareProject\")  # 4 threads\n",
    "spark = SparkSession.builder.appName(\"MiddlewareProject\").getOrCreate()"
   ]
  },
  {
   "cell_type": "markdown",
   "metadata": {},
   "source": [
    "## test vari"
   ]
  },
  {
   "cell_type": "code",
   "execution_count": 4,
   "metadata": {},
   "outputs": [],
   "source": [
    "# come aprire un file\n",
    "df = spark.read.csv(DATASET_DIR + 'short.csv', header=True)"
   ]
  },
  {
   "cell_type": "code",
   "execution_count": 5,
   "metadata": {},
   "outputs": [
    {
     "data": {
      "text/plain": [
       "Row(Year='1994', Month='1', DayofMonth='7', DayOfWeek='5', DepTime='858', CRSDepTime='900', ArrTime='954', CRSArrTime='1003', UniqueCarrier='US', FlightNum='227', TailNum='NA', ActualElapsedTime='56', CRSElapsedTime='63', AirTime='NA', ArrDelay='-9', DepDelay='-2', Origin='CLT', Dest='ORF', Distance='290', TaxiIn='NA', TaxiOut='NA', Cancelled='0', CancellationCode='NA', Diverted='0', CarrierDelay='NA', WeatherDelay='NA', NASDelay='NA', SecurityDelay='NA', LateAircraftDelay='NA')"
      ]
     },
     "execution_count": 5,
     "metadata": {},
     "output_type": "execute_result"
    }
   ],
   "source": [
    "# roba con dataframe\n",
    "df.first()"
   ]
  },
  {
   "cell_type": "code",
   "execution_count": 6,
   "metadata": {},
   "outputs": [
    {
     "data": {
      "text/plain": [
       "100000"
      ]
     },
     "execution_count": 6,
     "metadata": {},
     "output_type": "execute_result"
    }
   ],
   "source": [
    "df.count()"
   ]
  },
  {
   "cell_type": "code",
   "execution_count": 7,
   "metadata": {},
   "outputs": [],
   "source": [
    "# replace 'NA' with null values\n",
    "df = df.replace('NA', None)"
   ]
  },
  {
   "cell_type": "code",
   "execution_count": 8,
   "metadata": {
    "scrolled": false
   },
   "outputs": [
    {
     "name": "stdout",
     "output_type": "stream",
     "text": [
      "DepTime           -> 5754\n",
      "ArrTime           -> 6135\n",
      "TailNum           -> 100000\n",
      "ActualElapsedTime -> 6135\n",
      "AirTime           -> 100000\n",
      "ArrDelay          -> 6135\n",
      "DepDelay          -> 5754\n",
      "TaxiIn            -> 100000\n",
      "TaxiOut           -> 100000\n",
      "CancellationCode  -> 100000\n",
      "CarrierDelay      -> 100000\n",
      "WeatherDelay      -> 100000\n",
      "NASDelay          -> 100000\n",
      "SecurityDelay     -> 100000\n",
      "LateAircraftDelay -> 100000\n"
     ]
    }
   ],
   "source": [
    "# find columns with null values\n",
    "for col in df.columns:\n",
    "    num = df.filter(df[col].isNull()).count()\n",
    "    if num > 0:\n",
    "        print(\"{:17} -> {}\".format(col, num))"
   ]
  },
  {
   "cell_type": "code",
   "execution_count": 9,
   "metadata": {},
   "outputs": [],
   "source": [
    "# cast columns to correct type\n",
    "intcolumns = ['Year', 'Month', 'DayofMonth', 'DayofWeek', 'DepTime', 'CRSDEPTime', 'ArrTime', 'CRSArrTime',\n",
    "              'ActualElapsedTime', 'CRSElapsedTime', 'AirTime', 'ArrDelay', 'DepDelay', 'Distance', 'CarrierDelay',\n",
    "              'WeatherDelay', 'NASDelay', 'SecurityDelay', 'LateAircraftDelay', 'Cancelled', 'Diverted']\n",
    "\n",
    "for c in intcolumns:\n",
    "    df = df.withColumn(c, df[c].cast('int'))"
   ]
  },
  {
   "cell_type": "code",
   "execution_count": 10,
   "metadata": {},
   "outputs": [
    {
     "data": {
      "text/plain": [
       "Row(Year=1994, Month=1, DayofMonth=7, DayofWeek=5, DepTime=858, CRSDEPTime=900, ArrTime=954, CRSArrTime=1003, UniqueCarrier='US', FlightNum='227', TailNum=None, ActualElapsedTime=56, CRSElapsedTime=63, AirTime=None, ArrDelay=-9, DepDelay=-2, Origin='CLT', Dest='ORF', Distance=290, TaxiIn=None, TaxiOut=None, Cancelled=0, CancellationCode=None, Diverted=0, CarrierDelay=None, WeatherDelay=None, NASDelay=None, SecurityDelay=None, LateAircraftDelay=None)"
      ]
     },
     "execution_count": 10,
     "metadata": {},
     "output_type": "execute_result"
    }
   ],
   "source": [
    "df.first()"
   ]
  },
  {
   "cell_type": "code",
   "execution_count": null,
   "metadata": {},
   "outputs": [],
   "source": []
  },
  {
   "cell_type": "code",
   "execution_count": 11,
   "metadata": {},
   "outputs": [],
   "source": [
    "## to pandas dataframe\n",
    "# dfpd = df.toPandas()"
   ]
  },
  {
   "cell_type": "code",
   "execution_count": 12,
   "metadata": {},
   "outputs": [],
   "source": [
    "# dfpd.head(5)"
   ]
  },
  {
   "cell_type": "code",
   "execution_count": 13,
   "metadata": {},
   "outputs": [],
   "source": [
    "# dfpd.describe()"
   ]
  },
  {
   "cell_type": "code",
   "execution_count": null,
   "metadata": {},
   "outputs": [],
   "source": []
  },
  {
   "cell_type": "markdown",
   "metadata": {},
   "source": [
    "## Actual assignment"
   ]
  },
  {
   "cell_type": "markdown",
   "metadata": {},
   "source": [
    "### Initialization"
   ]
  },
  {
   "cell_type": "code",
   "execution_count": 14,
   "metadata": {},
   "outputs": [
    {
     "name": "stdout",
     "output_type": "stream",
     "text": [
      "Loading from: ./dataset/{2004}.csv\n",
      "Number of entries: 7129270\n"
     ]
    }
   ],
   "source": [
    "# years = range(1994, 2009)\n",
    "years = range(2004, 2005)\n",
    "path = DATASET_DIR + '{' + ','.join(str(y) for y in years) + '}.csv'\n",
    "print('Loading from:', path)\n",
    "\n",
    "# load entire file\n",
    "df = spark.read.csv(path, header=True)\n",
    "print('Number of entries:', df.count())"
   ]
  },
  {
   "cell_type": "code",
   "execution_count": 15,
   "metadata": {},
   "outputs": [],
   "source": [
    "# replace 'NA' with null values\n",
    "df = df.replace('NA', None)"
   ]
  },
  {
   "cell_type": "code",
   "execution_count": 16,
   "metadata": {},
   "outputs": [
    {
     "data": {
      "text/plain": [
       "Row(Year=2004, Month=1, DayofMonth=12, DayofWeek=1, DepTime=623, CRSDEPTime=630, ArrTime=901, CRSArrTime=915, UniqueCarrier='UA', FlightNum='462', TailNum='N805UA', ActualElapsedTime=98, CRSElapsedTime=105, AirTime=80, ArrDelay=-14, DepDelay=-7, Origin='ORD', Dest='CLT', Distance=599, TaxiIn='7', TaxiOut='11', Cancelled=0, CancellationCode=None, Diverted=0, CarrierDelay=0, WeatherDelay=0, NASDelay=0, SecurityDelay=0, LateAircraftDelay=0)"
      ]
     },
     "execution_count": 16,
     "metadata": {},
     "output_type": "execute_result"
    }
   ],
   "source": [
    "# cast columns to correct type\n",
    "intcolumns = ['Year', 'Month', 'DayofMonth', 'DayofWeek', 'DepTime', 'CRSDEPTime', 'ArrTime', 'CRSArrTime',\n",
    "              'ActualElapsedTime', 'CRSElapsedTime', 'AirTime', 'ArrDelay', 'DepDelay', 'Distance', 'CarrierDelay',\n",
    "              'WeatherDelay', 'NASDelay', 'SecurityDelay', 'LateAircraftDelay', 'Cancelled', 'Diverted']\n",
    "\n",
    "for c in intcolumns:\n",
    "    df = df.withColumn(c, df[c].cast('int'))\n",
    "df.first()"
   ]
  },
  {
   "cell_type": "markdown",
   "metadata": {},
   "source": [
    "### Percentage of canceled flights per day"
   ]
  },
  {
   "cell_type": "code",
   "execution_count": 17,
   "metadata": {},
   "outputs": [],
   "source": [
    "# the percentage of canceled flights per day"
   ]
  },
  {
   "cell_type": "markdown",
   "metadata": {},
   "source": [
    "### Weekly percentages of delays due to weather"
   ]
  },
  {
   "cell_type": "code",
   "execution_count": 18,
   "metadata": {},
   "outputs": [],
   "source": [
    "# https://spark.apache.org/docs/latest/rdd-programming-guide.html"
   ]
  },
  {
   "cell_type": "code",
   "execution_count": 19,
   "metadata": {},
   "outputs": [],
   "source": [
    "# TODO meaningful variable names?"
   ]
  },
  {
   "cell_type": "code",
   "execution_count": 20,
   "metadata": {},
   "outputs": [],
   "source": [
    "from datetime import datetime\n",
    "\n",
    "# get RDD\n",
    "rdd = df.rdd\n",
    "\n",
    "# add the \"week\" as key\n",
    "def findweek(row):\n",
    "    '''Returns the week as a tuple (year, week in the year)'''\n",
    "    d = datetime(year=row['Year'], month=row['Month'], day=row['DayofMonth'])\n",
    "    ic = d.isocalendar()\n",
    "    return (ic[0], ic[1])\n",
    "rdd = rdd.map(lambda r: (findweek(r), r))\n",
    "\n",
    "# keep only boolean values for a generic delay and weather delays\n",
    "rdd = rdd.map(lambda r: (r[0], (1 if r[1]['ArrDelay'] else 0, 1 if r[1]['WeatherDelay'] else 0)))\n",
    "\n",
    "# count days with delay and days with weather delay\n",
    "rdd = rdd.reduceByKey(lambda a, b: (a[0] + b[0], a[1] + b[1]))\n",
    "\n",
    "# compute percentage of weather delays over all delayed flights\n",
    "rdd = rdd.map(lambda r: (r[0], 100 * r[1][1] / r[1][0]))"
   ]
  },
  {
   "cell_type": "code",
   "execution_count": 29,
   "metadata": {},
   "outputs": [
    {
     "name": "stdout",
     "output_type": "stream",
     "text": [
      "Time taken: 0.11777 seconds\n"
     ]
    },
    {
     "data": {
      "text/plain": [
       "[((2004, 1), 3.1154632455334657),\n",
       " ((2004, 2), 2.242076326002587),\n",
       " ((2004, 3), 2.1238652410732297),\n",
       " ((2004, 4), 1.4795516315273154),\n",
       " ((2004, 5), 3.4213123046178593),\n",
       " ((2004, 6), 2.804987725140371),\n",
       " ((2004, 7), 1.5639162306995087),\n",
       " ((2004, 8), 0.7523261173566245),\n",
       " ((2004, 9), 2.0800377759414475),\n",
       " ((2004, 10), 1.4949616009335625),\n",
       " ((2004, 11), 0.7065517321788065),\n",
       " ((2004, 12), 1.6471343463522707),\n",
       " ((2004, 13), 0.5170181925292033),\n",
       " ((2004, 14), 0.7455868689996903),\n",
       " ((2004, 15), 0.54366820705992),\n",
       " ((2004, 16), 1.211035082002824),\n",
       " ((2004, 17), 1.1338803126336665),\n",
       " ((2004, 18), 1.299238081869156),\n",
       " ((2004, 19), 0.9394368068527303),\n",
       " ((2004, 20), 2.3946133055147234),\n",
       " ((2004, 21), 2.0099709705919473),\n",
       " ((2004, 22), 1.8637598705965785),\n",
       " ((2004, 23), 1.5102243289422919),\n",
       " ((2004, 24), 2.869196998474328),\n",
       " ((2004, 25), 2.844110337588565),\n",
       " ((2004, 26), 3.656078776964635),\n",
       " ((2004, 27), 2.669925657524833),\n",
       " ((2004, 28), 1.7841308668399327),\n",
       " ((2004, 29), 2.0059060238383033),\n",
       " ((2004, 30), 1.536252364780161),\n",
       " ((2004, 31), 2.8103293663459636),\n",
       " ((2004, 32), 1.3695529145444256),\n",
       " ((2004, 33), 1.4000718769833078),\n",
       " ((2004, 34), 2.2405447657988096),\n",
       " ((2004, 35), 1.800594678008205),\n",
       " ((2004, 36), 0.7575514910791505),\n",
       " ((2004, 37), 1.0433874637658573),\n",
       " ((2004, 38), 1.1747978458067898),\n",
       " ((2004, 39), 0.19491185739997013),\n",
       " ((2004, 40), 0.9450854002210908),\n",
       " ((2004, 41), 1.3325981067916552),\n",
       " ((2004, 42), 0.4959055418015616),\n",
       " ((2004, 43), 2.3209412196408503),\n",
       " ((2004, 44), 1.4807646521201507),\n",
       " ((2004, 45), 1.0017900082202094),\n",
       " ((2004, 46), 0.91640229523056),\n",
       " ((2004, 47), 1.0245019675356615),\n",
       " ((2004, 48), 4.124243646631706),\n",
       " ((2004, 49), 0.9443473843809407),\n",
       " ((2004, 50), 2.1687087431222185),\n",
       " ((2004, 51), 1.4364138228808463),\n",
       " ((2004, 52), 4.707790897571448),\n",
       " ((2004, 53), 2.1956173169428115)]"
      ]
     },
     "execution_count": 29,
     "metadata": {},
     "output_type": "execute_result"
    }
   ],
   "source": [
    "starttime = time()\n",
    "res = rdd.collect()\n",
    "endtime = time() - starttime\n",
    "print('Time taken: {:.5} seconds'.format(endtime))\n",
    "\n",
    "res = sorted(res, key=lambda x: x[0][0]*53 + x[0][1])\n",
    "res"
   ]
  },
  {
   "cell_type": "code",
   "execution_count": 22,
   "metadata": {},
   "outputs": [],
   "source": [
    "# TODO visualizzazione\n",
    "# plot per settimana"
   ]
  },
  {
   "cell_type": "code",
   "execution_count": 23,
   "metadata": {},
   "outputs": [],
   "source": [
    "## \"a week\" = tutti i voli con orario di partenza in quella settimana\n",
    "## \"delay\" interpreto come arrival delay. \n",
    "## Testato, non ci sono weather delay che vengono \"recuperati\" all'arrivo\n",
    "\n",
    "## versione 1: (accettata dal prof) <---\n",
    "# numero di voli con any weather delay / numero di voli con ritardo\n",
    "\n",
    "## versione 2: (versione \"pesata\")\n",
    "# per ogni volo, se ha ritardo, fai weather delay / ritardo volo\n",
    "# fai media\n",
    "\n",
    "## versione 3: (aggregata)\n",
    "# totale weather delay / totale ritardo"
   ]
  },
  {
   "cell_type": "markdown",
   "metadata": {},
   "source": [
    "### Delay reduced per distance group"
   ]
  },
  {
   "cell_type": "code",
   "execution_count": 24,
   "metadata": {},
   "outputs": [],
   "source": [
    "# the percentage of flights belonging to a given \"distance group\"\n",
    "# that were able to halve their departure delays by the time they \n",
    "# arrived at their destinations. \n",
    "\n",
    "# Distance groups assort flights by their total distance in miles.\n",
    "# Flights with distances that are less than 200 miles belong in group 1,\n",
    "# flights with distances that are between 200 and 399 miles belong \n",
    "# in group 2, flights with distances that are between 400 and 599 miles\n",
    "# belong in group 3, and so on. The last group contains flights whose\n",
    "# distances are between 2400 and 2599 miles."
   ]
  },
  {
   "cell_type": "markdown",
   "metadata": {},
   "source": [
    "### Penalty scores for each airport"
   ]
  },
  {
   "cell_type": "code",
   "execution_count": 25,
   "metadata": {},
   "outputs": [],
   "source": [
    "# a weekly \"penalty\" score for each airport that depends on both \n",
    "# the its incoming and outgoing flights. \n",
    "\n",
    "# The score adds 0.5 for each incoming flight that is more than 15 minutes\n",
    "# late, and 1 for each outgoing flight that is more than 15 minutes late"
   ]
  },
  {
   "cell_type": "markdown",
   "metadata": {},
   "source": [
    "### Our group's data analysis"
   ]
  },
  {
   "cell_type": "code",
   "execution_count": 26,
   "metadata": {},
   "outputs": [],
   "source": [
    "# an additional data analysis defined by your group\n",
    "\n",
    "# IDEE\n",
    "# qualcosa con gli altri delays? security, nas, carrier\n",
    "# qualche confronto tra carrier\n",
    "# "
   ]
  },
  {
   "cell_type": "code",
   "execution_count": null,
   "metadata": {},
   "outputs": [],
   "source": []
  },
  {
   "cell_type": "code",
   "execution_count": 27,
   "metadata": {},
   "outputs": [],
   "source": [
    "# prima fare con un solo file come debug, poi mettere tutti"
   ]
  },
  {
   "cell_type": "code",
   "execution_count": 28,
   "metadata": {},
   "outputs": [],
   "source": [
    "# come caricare più file allo stesso tempo:"
   ]
  }
 ],
 "metadata": {
  "kernelspec": {
   "display_name": "Python 3",
   "language": "python",
   "name": "python3"
  },
  "language_info": {
   "codemirror_mode": {
    "name": "ipython",
    "version": 3
   },
   "file_extension": ".py",
   "mimetype": "text/x-python",
   "name": "python",
   "nbconvert_exporter": "python",
   "pygments_lexer": "ipython3",
   "version": "3.6.6"
  }
 },
 "nbformat": 4,
 "nbformat_minor": 2
}
